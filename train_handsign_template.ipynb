{
 "cells": [
  {
   "cell_type": "markdown",
   "id": "724ee016",
   "metadata": {},
   "source": [
    "Import dan Setup"
   ]
  },
  {
   "cell_type": "code",
   "execution_count": 1,
   "id": "38107c61",
   "metadata": {},
   "outputs": [],
   "source": [
    "import os\n",
    "import numpy as np\n",
    "import pandas as pd\n",
    "\n",
    "from PIL import Image\n",
    "\n",
    "import matplotlib.pyplot as plt\n",
    "from tqdm import tqdm\n",
    "\n",
    "from sklearn.model_selection import train_test_split\n",
    "\n",
    "import torch\n",
    "from torchvision import transforms\n",
    "from torch.utils.data import Dataset, DataLoader\n",
    "import torch.nn as nn\n",
    "import torch.optim as optim"
   ]
  },
  {
   "cell_type": "markdown",
   "id": "e968e9dc",
   "metadata": {},
   "source": [
    "Path"
   ]
  },
  {
   "cell_type": "code",
   "execution_count": 2,
   "id": "d7cccfa8",
   "metadata": {},
   "outputs": [],
   "source": [
    "# path dataset masing masing\n",
    "PATH_DATASET = r\"./dataset\""
   ]
  },
  {
   "cell_type": "code",
   "execution_count": null,
   "id": "2ff40ba9",
   "metadata": {},
   "outputs": [],
   "source": [
    "PATH_TRAIN = PATH_DATASET + \"/Train\"\n",
    "LABELS = sorted(os.listdir(PATH_TRAIN))\n",
    "\n",
    "label_mapping = {\n",
    "    'A': 0, 'B': 1, 'C': 2, 'D': 3, 'E': 4,\n",
    "    'F': 5, 'G': 6, 'H': 7, 'I': 8, 'K': 9,\n",
    "    'L': 10, 'M': 11, 'N': 12, 'O': 13, 'P': 14,\n",
    "    'Q': 15, 'R': 16, 'S': 17, 'T': 18, 'U': 19,\n",
    "    'V': 20, 'W': 21, 'X': 22, 'Y': 23\n",
    "}\n",
    "\n",
    "inv_label_mapping = {v: k for k, v in label_mapping.items()}\n",
    "\n",
    "RANDOM_SEED = 21"
   ]
  },
  {
   "cell_type": "markdown",
   "id": "a56407b5",
   "metadata": {},
   "source": [
    "Preprocessing"
   ]
  },
  {
   "cell_type": "code",
   "execution_count": 4,
   "id": "50b5ff9d",
   "metadata": {},
   "outputs": [],
   "source": [
    "data = []\n",
    "for label in LABELS:\n",
    "    # loop untuk mencatat label dan path tiap gambar\n",
    "    path_folder = PATH_TRAIN + \"/\" + label\n",
    "\n",
    "    for file in os.listdir(path_folder):\n",
    "        file_dict = {\n",
    "            \"label\": label,\n",
    "            \"full_path\": path_folder + \"/\" + file\n",
    "        }\n",
    "        data.append(file_dict)\n",
    "\n",
    "df = pd.DataFrame(data)"
   ]
  },
  {
   "cell_type": "code",
   "execution_count": 5,
   "id": "40d3e184",
   "metadata": {},
   "outputs": [
    {
     "data": {
      "text/html": [
       "<div>\n",
       "<style scoped>\n",
       "    .dataframe tbody tr th:only-of-type {\n",
       "        vertical-align: middle;\n",
       "    }\n",
       "\n",
       "    .dataframe tbody tr th {\n",
       "        vertical-align: top;\n",
       "    }\n",
       "\n",
       "    .dataframe thead th {\n",
       "        text-align: right;\n",
       "    }\n",
       "</style>\n",
       "<table border=\"1\" class=\"dataframe\">\n",
       "  <thead>\n",
       "    <tr style=\"text-align: right;\">\n",
       "      <th></th>\n",
       "      <th>label</th>\n",
       "      <th>full_path</th>\n",
       "    </tr>\n",
       "  </thead>\n",
       "  <tbody>\n",
       "    <tr>\n",
       "      <th>0</th>\n",
       "      <td>A</td>\n",
       "      <td>./dataset/Train/A/10014_A.jpg</td>\n",
       "    </tr>\n",
       "    <tr>\n",
       "      <th>1</th>\n",
       "      <td>A</td>\n",
       "      <td>./dataset/Train/A/10021_A.jpg</td>\n",
       "    </tr>\n",
       "    <tr>\n",
       "      <th>2</th>\n",
       "      <td>A</td>\n",
       "      <td>./dataset/Train/A/10023_A.jpg</td>\n",
       "    </tr>\n",
       "    <tr>\n",
       "      <th>3</th>\n",
       "      <td>A</td>\n",
       "      <td>./dataset/Train/A/10050_A.jpg</td>\n",
       "    </tr>\n",
       "    <tr>\n",
       "      <th>4</th>\n",
       "      <td>A</td>\n",
       "      <td>./dataset/Train/A/10056_A.jpg</td>\n",
       "    </tr>\n",
       "    <tr>\n",
       "      <th>...</th>\n",
       "      <td>...</td>\n",
       "      <td>...</td>\n",
       "    </tr>\n",
       "    <tr>\n",
       "      <th>27450</th>\n",
       "      <td>Y</td>\n",
       "      <td>./dataset/Train/Y/9952_Y.jpg</td>\n",
       "    </tr>\n",
       "    <tr>\n",
       "      <th>27451</th>\n",
       "      <td>Y</td>\n",
       "      <td>./dataset/Train/Y/9973_Y.jpg</td>\n",
       "    </tr>\n",
       "    <tr>\n",
       "      <th>27452</th>\n",
       "      <td>Y</td>\n",
       "      <td>./dataset/Train/Y/9983_Y.jpg</td>\n",
       "    </tr>\n",
       "    <tr>\n",
       "      <th>27453</th>\n",
       "      <td>Y</td>\n",
       "      <td>./dataset/Train/Y/9988_Y.jpg</td>\n",
       "    </tr>\n",
       "    <tr>\n",
       "      <th>27454</th>\n",
       "      <td>Y</td>\n",
       "      <td>./dataset/Train/Y/9997_Y.jpg</td>\n",
       "    </tr>\n",
       "  </tbody>\n",
       "</table>\n",
       "<p>27455 rows × 2 columns</p>\n",
       "</div>"
      ],
      "text/plain": [
       "      label                      full_path\n",
       "0         A  ./dataset/Train/A/10014_A.jpg\n",
       "1         A  ./dataset/Train/A/10021_A.jpg\n",
       "2         A  ./dataset/Train/A/10023_A.jpg\n",
       "3         A  ./dataset/Train/A/10050_A.jpg\n",
       "4         A  ./dataset/Train/A/10056_A.jpg\n",
       "...     ...                            ...\n",
       "27450     Y   ./dataset/Train/Y/9952_Y.jpg\n",
       "27451     Y   ./dataset/Train/Y/9973_Y.jpg\n",
       "27452     Y   ./dataset/Train/Y/9983_Y.jpg\n",
       "27453     Y   ./dataset/Train/Y/9988_Y.jpg\n",
       "27454     Y   ./dataset/Train/Y/9997_Y.jpg\n",
       "\n",
       "[27455 rows x 2 columns]"
      ]
     },
     "execution_count": 5,
     "metadata": {},
     "output_type": "execute_result"
    }
   ],
   "source": [
    "df"
   ]
  },
  {
   "cell_type": "markdown",
   "id": "dfcf5bec",
   "metadata": {},
   "source": [
    "Split"
   ]
  },
  {
   "cell_type": "code",
   "execution_count": 6,
   "id": "f9776db9",
   "metadata": {},
   "outputs": [],
   "source": [
    "# split data dengan rasio 8:2\n",
    "df_train, df_val = train_test_split(df, test_size=0.2, random_state=RANDOM_SEED)"
   ]
  },
  {
   "cell_type": "code",
   "execution_count": 7,
   "id": "43b71a3b",
   "metadata": {},
   "outputs": [
    {
     "data": {
      "text/html": [
       "<div>\n",
       "<style scoped>\n",
       "    .dataframe tbody tr th:only-of-type {\n",
       "        vertical-align: middle;\n",
       "    }\n",
       "\n",
       "    .dataframe tbody tr th {\n",
       "        vertical-align: top;\n",
       "    }\n",
       "\n",
       "    .dataframe thead th {\n",
       "        text-align: right;\n",
       "    }\n",
       "</style>\n",
       "<table border=\"1\" class=\"dataframe\">\n",
       "  <thead>\n",
       "    <tr style=\"text-align: right;\">\n",
       "      <th></th>\n",
       "      <th>label</th>\n",
       "      <th>full_path</th>\n",
       "    </tr>\n",
       "  </thead>\n",
       "  <tbody>\n",
       "    <tr>\n",
       "      <th>621</th>\n",
       "      <td>A</td>\n",
       "      <td>./dataset/Train/A/23691_A.jpg</td>\n",
       "    </tr>\n",
       "    <tr>\n",
       "      <th>23531</th>\n",
       "      <td>V</td>\n",
       "      <td>./dataset/Train/V/25522_V.jpg</td>\n",
       "    </tr>\n",
       "    <tr>\n",
       "      <th>22834</th>\n",
       "      <td>U</td>\n",
       "      <td>./dataset/Train/U/9343_U.jpg</td>\n",
       "    </tr>\n",
       "    <tr>\n",
       "      <th>24415</th>\n",
       "      <td>W</td>\n",
       "      <td>./dataset/Train/W/18802_W.jpg</td>\n",
       "    </tr>\n",
       "    <tr>\n",
       "      <th>17769</th>\n",
       "      <td>Q</td>\n",
       "      <td>./dataset/Train/Q/5063_Q.jpg</td>\n",
       "    </tr>\n",
       "    <tr>\n",
       "      <th>...</th>\n",
       "      <td>...</td>\n",
       "      <td>...</td>\n",
       "    </tr>\n",
       "    <tr>\n",
       "      <th>8857</th>\n",
       "      <td>I</td>\n",
       "      <td>./dataset/Train/I/12700_I.jpg</td>\n",
       "    </tr>\n",
       "    <tr>\n",
       "      <th>22405</th>\n",
       "      <td>U</td>\n",
       "      <td>./dataset/Train/U/24817_U.jpg</td>\n",
       "    </tr>\n",
       "    <tr>\n",
       "      <th>8959</th>\n",
       "      <td>I</td>\n",
       "      <td>./dataset/Train/I/14523_I.jpg</td>\n",
       "    </tr>\n",
       "    <tr>\n",
       "      <th>5735</th>\n",
       "      <td>F</td>\n",
       "      <td>./dataset/Train/F/16419_F.jpg</td>\n",
       "    </tr>\n",
       "    <tr>\n",
       "      <th>13424</th>\n",
       "      <td>N</td>\n",
       "      <td>./dataset/Train/N/12547_N.jpg</td>\n",
       "    </tr>\n",
       "  </tbody>\n",
       "</table>\n",
       "<p>5491 rows × 2 columns</p>\n",
       "</div>"
      ],
      "text/plain": [
       "      label                      full_path\n",
       "621       A  ./dataset/Train/A/23691_A.jpg\n",
       "23531     V  ./dataset/Train/V/25522_V.jpg\n",
       "22834     U   ./dataset/Train/U/9343_U.jpg\n",
       "24415     W  ./dataset/Train/W/18802_W.jpg\n",
       "17769     Q   ./dataset/Train/Q/5063_Q.jpg\n",
       "...     ...                            ...\n",
       "8857      I  ./dataset/Train/I/12700_I.jpg\n",
       "22405     U  ./dataset/Train/U/24817_U.jpg\n",
       "8959      I  ./dataset/Train/I/14523_I.jpg\n",
       "5735      F  ./dataset/Train/F/16419_F.jpg\n",
       "13424     N  ./dataset/Train/N/12547_N.jpg\n",
       "\n",
       "[5491 rows x 2 columns]"
      ]
     },
     "execution_count": 7,
     "metadata": {},
     "output_type": "execute_result"
    }
   ],
   "source": [
    "df_val"
   ]
  },
  {
   "cell_type": "markdown",
   "id": "1b7b26da",
   "metadata": {},
   "source": [
    "Transformation dan Augmentation"
   ]
  },
  {
   "cell_type": "code",
   "execution_count": 8,
   "id": "2ca4e1ab",
   "metadata": {},
   "outputs": [],
   "source": [
    "train_transform = transforms.Compose([\n",
    "    # Augmentasi\n",
    "    transforms.RandomHorizontalFlip(),\n",
    "    transforms.RandomRotation(10),\n",
    "    # Transformasi\n",
    "    transforms.Grayscale(),\n",
    "    transforms.Resize((28, 28)),\n",
    "    transforms.ToTensor()\n",
    "])\n",
    "\n",
    "val_transform = transforms.Compose([\n",
    "    # Transformasi\n",
    "    transforms.Grayscale(),\n",
    "    transforms.Resize((28, 28)),\n",
    "    transforms.ToTensor()\n",
    "])"
   ]
  },
  {
   "cell_type": "markdown",
   "id": "a5cd1a24",
   "metadata": {},
   "source": [
    "Format Dataset"
   ]
  },
  {
   "cell_type": "code",
   "execution_count": 26,
   "id": "2034647b",
   "metadata": {},
   "outputs": [],
   "source": [
    "class CustomDataset(Dataset):\n",
    "    def __init__(self, dataframe, transform):\n",
    "        self.data = dataframe\n",
    "        self.transform = transform\n",
    "\n",
    "    def __len__(self):\n",
    "        return len(self.data)\n",
    "\n",
    "    def __getitem__(self, idx):\n",
    "        img_path = self.data.iloc[idx]['full_path']\n",
    "        label = int(self.data.iloc[idx]['label'])\n",
    "        image = Image.open(img_path).convert('L')\n",
    "        return self.transform(image), torch.tensor(label).long()"
   ]
  },
  {
   "cell_type": "code",
   "execution_count": 15,
   "id": "b29e00fd",
   "metadata": {},
   "outputs": [],
   "source": [
    "# gunakan train_transform\n",
    "train_loader = DataLoader(CustomDataset(df_train, train_transform), batch_size=64, shuffle=True)\n",
    "\n",
    "# gunakan val_transform\n",
    "val_loader = DataLoader(CustomDataset(df_val, val_transform), batch_size=64, shuffle=False)"
   ]
  },
  {
   "cell_type": "markdown",
   "id": "18217ce3",
   "metadata": {},
   "source": [
    "Deklarasi Arsitektur Model CNN"
   ]
  },
  {
   "cell_type": "code",
   "execution_count": 16,
   "id": "5009844b",
   "metadata": {},
   "outputs": [],
   "source": [
    "class CNN(nn.Module):\n",
    "    def __init__(self, num_classes=24):\n",
    "        super().__init__()\n",
    "        self.features = nn.Sequential(\n",
    "            # Bagian konvolusi / Ekstraksi Fitur\n",
    "            nn.Conv2d(1, 32, kernel_size=(3,3), padding=1), nn.BatchNorm2d(32), nn.ReLU(), nn.MaxPool2d(2), nn.Dropout(0.25),\n",
    "            nn.Conv2d(32, 64, kernel_size=(3,3), padding=1), nn.BatchNorm2d(64), nn.ReLU(), nn.MaxPool2d(2), nn.Dropout(0.25),\n",
    "            nn.Conv2d(64, 128, kernel_size=(3,3), padding=1), nn.BatchNorm2d(128), nn.ReLU(), nn.MaxPool2d(2), nn.Dropout(0.25)\n",
    "        )\n",
    "\n",
    "        self.classifier = nn.Sequential(\n",
    "            # Bagian neural network\n",
    "            nn.Flatten(),\n",
    "            nn.Linear(128 * 3 * 3, 256), nn.ReLU(), nn.Dropout(0.5),\n",
    "            nn.Linear(256, num_classes)\n",
    "        )\n",
    "\n",
    "    def forward(self, x):\n",
    "        return self.classifier(self.features(x))"
   ]
  },
  {
   "cell_type": "markdown",
   "id": "2c16bb48",
   "metadata": {},
   "source": [
    "Training"
   ]
  },
  {
   "cell_type": "code",
   "execution_count": 17,
   "id": "4d420d6f",
   "metadata": {},
   "outputs": [],
   "source": [
    "def train_model(model, train_loader, val_loader, epochs, device):\n",
    "    model.to(device)\n",
    "    criterion = nn.CrossEntropyLoss()\n",
    "    optimizer = optim.Adam(model.parameters(), lr=0.001)\n",
    "\n",
    "    for epoch in range(epochs):\n",
    "        model.train()\n",
    "        train_loss, train_correct, total = 0, 0, 0\n",
    "        for images, labels in tqdm(train_loader, desc=f\"Epoch {epoch+1}/{epochs} [Train]\", leave=False):\n",
    "            images, labels = images.to(device), labels.to(device)\n",
    "            optimizer.zero_grad()\n",
    "            outputs = model(images)\n",
    "            loss = criterion(outputs, labels)\n",
    "            loss.backward()\n",
    "            optimizer.step()\n",
    "\n",
    "            train_loss += loss.item()\n",
    "            _, preds = outputs.max(1)\n",
    "            train_correct += (preds == labels).sum().item()\n",
    "            total += labels.size(0)\n",
    "\n",
    "        val_loss, val_correct = 0, 0\n",
    "        model.eval()\n",
    "        with torch.no_grad():\n",
    "            for images, labels in tqdm(val_loader, desc=f\"Epoch {epoch+1}/{epochs} [Val]\", leave=False):\n",
    "                images, labels = images.to(device), labels.to(device)\n",
    "                outputs = model(images)\n",
    "                val_loss += criterion(outputs, labels).item()\n",
    "                _, preds = outputs.max(1)\n",
    "                val_correct += (preds == labels).sum().item()\n",
    "\n",
    "        print(f\"Epoch {epoch+1}/{epochs} | Train Acc: {100*train_correct/total:.2f}% | Val Acc: {100*val_correct/len(df_val):.2f}%\")"
   ]
  },
  {
   "cell_type": "code",
   "execution_count": 18,
   "id": "24eed3d5",
   "metadata": {},
   "outputs": [
    {
     "name": "stderr",
     "output_type": "stream",
     "text": [
      "Epoch 1/10 [Train]:   0%|          | 0/344 [00:00<?, ?it/s]"
     ]
    },
    {
     "name": "stderr",
     "output_type": "stream",
     "text": [
      "                                                                     \r"
     ]
    },
    {
     "name": "stdout",
     "output_type": "stream",
     "text": [
      "Epoch 1/10 | Train Acc: 38.28% | Val Acc: 80.24%\n"
     ]
    },
    {
     "name": "stderr",
     "output_type": "stream",
     "text": [
      "                                                                     \r"
     ]
    },
    {
     "name": "stdout",
     "output_type": "stream",
     "text": [
      "Epoch 2/10 | Train Acc: 67.90% | Val Acc: 91.44%\n"
     ]
    },
    {
     "name": "stderr",
     "output_type": "stream",
     "text": [
      "                                                                     \r"
     ]
    },
    {
     "name": "stdout",
     "output_type": "stream",
     "text": [
      "Epoch 3/10 | Train Acc: 77.09% | Val Acc: 93.95%\n"
     ]
    },
    {
     "name": "stderr",
     "output_type": "stream",
     "text": [
      "                                                                     \r"
     ]
    },
    {
     "name": "stdout",
     "output_type": "stream",
     "text": [
      "Epoch 4/10 | Train Acc: 81.87% | Val Acc: 97.38%\n"
     ]
    },
    {
     "name": "stderr",
     "output_type": "stream",
     "text": [
      "                                                                     \r"
     ]
    },
    {
     "name": "stdout",
     "output_type": "stream",
     "text": [
      "Epoch 5/10 | Train Acc: 84.68% | Val Acc: 98.18%\n"
     ]
    },
    {
     "name": "stderr",
     "output_type": "stream",
     "text": [
      "                                                                     \r"
     ]
    },
    {
     "name": "stdout",
     "output_type": "stream",
     "text": [
      "Epoch 6/10 | Train Acc: 87.19% | Val Acc: 98.98%\n"
     ]
    },
    {
     "name": "stderr",
     "output_type": "stream",
     "text": [
      "                                                                     \r"
     ]
    },
    {
     "name": "stdout",
     "output_type": "stream",
     "text": [
      "Epoch 7/10 | Train Acc: 88.93% | Val Acc: 99.24%\n"
     ]
    },
    {
     "name": "stderr",
     "output_type": "stream",
     "text": [
      "                                                                     \r"
     ]
    },
    {
     "name": "stdout",
     "output_type": "stream",
     "text": [
      "Epoch 8/10 | Train Acc: 89.72% | Val Acc: 99.60%\n"
     ]
    },
    {
     "name": "stderr",
     "output_type": "stream",
     "text": [
      "                                                                     \r"
     ]
    },
    {
     "name": "stdout",
     "output_type": "stream",
     "text": [
      "Epoch 9/10 | Train Acc: 90.82% | Val Acc: 99.78%\n"
     ]
    },
    {
     "name": "stderr",
     "output_type": "stream",
     "text": [
      "                                                                      "
     ]
    },
    {
     "name": "stdout",
     "output_type": "stream",
     "text": [
      "Epoch 10/10 | Train Acc: 91.73% | Val Acc: 99.53%\n"
     ]
    },
    {
     "name": "stderr",
     "output_type": "stream",
     "text": [
      "\r"
     ]
    }
   ],
   "source": [
    "model = CNN(num_classes=24)\n",
    "\n",
    "device = 'cuda' # gunakan 'cuda' apabila memiliki gpu dan 'cpu' apabila tidak memiliki gpu\n",
    "epochs = 10 # ubah untuk menyesuaikan berapa kali model dilatih terhadap dataset\n",
    "\n",
    "train_model(model, train_loader, val_loader, device=device, epochs=epochs)"
   ]
  },
  {
   "cell_type": "code",
   "execution_count": 19,
   "id": "e51ed19c",
   "metadata": {},
   "outputs": [],
   "source": [
    "torch.save(model.state_dict(), \"cnn_handsign_model.pth\")"
   ]
  },
  {
   "cell_type": "markdown",
   "id": "a80fb7c6",
   "metadata": {},
   "source": [
    "Evaluasi"
   ]
  },
  {
   "cell_type": "code",
   "execution_count": 20,
   "id": "550e4e08",
   "metadata": {},
   "outputs": [],
   "source": [
    "def evaluate(model, loader, device):\n",
    "    model.to(device)\n",
    "    model.eval()\n",
    "    correct = 0\n",
    "    total = 0\n",
    "    incorrect_samples = []\n",
    "\n",
    "    with torch.no_grad():\n",
    "        for images, labels in tqdm(loader, desc=\"Evaluating\"):\n",
    "            images, labels = images.to(device), labels.to(device)\n",
    "            outputs = model(images)\n",
    "            _, preds = outputs.max(1)\n",
    "            total += labels.size(0)\n",
    "            correct += (preds == labels).sum().item()\n",
    "            for i in range(len(labels)):\n",
    "                if preds[i] != labels[i]:\n",
    "                    incorrect_samples.append((images[i].cpu(), preds[i].cpu(), labels[i].cpu()))\n",
    "\n",
    "    print(f\"Accuracy: {100 * correct / total:.2f}%\")\n",
    "    return incorrect_samples"
   ]
  },
  {
   "cell_type": "code",
   "execution_count": 27,
   "id": "f802240c",
   "metadata": {},
   "outputs": [],
   "source": [
    "PATH_TEST = PATH_DATASET + \"/Test\"\n",
    "\n",
    "data_test = []\n",
    "for label in LABELS:\n",
    "    for fname in os.listdir(os.path.join(PATH_TEST, label)):\n",
    "        data_test.append({\n",
    "            \"label\": label_mapping[label],\n",
    "            \"full_path\": os.path.join(PATH_TEST, label, fname)\n",
    "        })\n",
    "\n",
    "df_test = pd.DataFrame(data_test)\n",
    "\n",
    "test_loader = DataLoader(CustomDataset(df_test, val_transform), batch_size=64, shuffle=False)"
   ]
  },
  {
   "cell_type": "code",
   "execution_count": 28,
   "id": "a4dac881",
   "metadata": {},
   "outputs": [
    {
     "name": "stderr",
     "output_type": "stream",
     "text": [
      "Evaluating: 100%|██████████| 113/113 [00:12<00:00,  8.81it/s]"
     ]
    },
    {
     "name": "stdout",
     "output_type": "stream",
     "text": [
      "Accuracy: 95.94%\n",
      "291\n"
     ]
    },
    {
     "name": "stderr",
     "output_type": "stream",
     "text": [
      "\n"
     ]
    }
   ],
   "source": [
    "incorrect = evaluate(model, test_loader, device='cuda')\n",
    "\n",
    "print(len(incorrect))"
   ]
  },
  {
   "cell_type": "code",
   "execution_count": 29,
   "id": "1ddbab65",
   "metadata": {},
   "outputs": [
    {
     "data": {
      "image/png": "[encoded data removed]",
      "text/plain": [
       "<Figure size 640x480 with 1 Axes>"
      ]
     },
     "metadata": {},
     "output_type": "display_data"
    },
    {
     "data": {
      "image/png": "[encoded data removed]",
      "text/plain": [
       "<Figure size 640x480 with 1 Axes>"
      ]
     },
     "metadata": {},
     "output_type": "display_data"
    },
    {
     "data": {
      "image/png": "[encoded data removed]",
      "text/plain": [
       "<Figure size 640x480 with 1 Axes>"
      ]
     },
     "metadata": {},
     "output_type": "display_data"
    },
    {
     "data": {
      "image/png": "[encoded data removed]",
      "text/plain": [
       "<Figure size 640x480 with 1 Axes>"
      ]
     },
     "metadata": {},
     "output_type": "display_data"
    },
    {
     "data": {
      "image/png": "[encoded data removed]",
      "text/plain": [
       "<Figure size 640x480 with 1 Axes>"
      ]
     },
     "metadata": {},
     "output_type": "display_data"
    }
   ],
   "source": [
    "for i in range(min(5, len(incorrect))):\n",
    "    img, pred, label = incorrect[i]\n",
    "    plt.imshow(img.squeeze(), cmap='gray')\n",
    "    plt.title(f\"Predicted: {inv_label_mapping[pred.item()]}, Actual: {inv_label_mapping[label.item()]}\")\n",
    "    plt.axis('off')\n",
    "    plt.show()"
   ]
  }
 ],
 "metadata": {
  "kernelspec": {
   "display_name": "pytorch-cnn",
   "language": "python",
   "name": "python3"
  },
  "language_info": {
   "codemirror_mode": {
    "name": "ipython",
    "version": 3
   },
   "file_extension": ".py",
   "mimetype": "text/x-python",
   "name": "python",
   "nbconvert_exporter": "python",
   "pygments_lexer": "ipython3",
   "version": "3.10.18"
  }
 },
 "nbformat": 4,
 "nbformat_minor": 5
}
